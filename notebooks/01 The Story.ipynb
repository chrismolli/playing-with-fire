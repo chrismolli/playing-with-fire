{
 "cells": [
  {
   "cell_type": "markdown",
   "id": "3c832377",
   "metadata": {},
   "source": [
    "# 1. The Story\n",
    "\n",
    "## 1.1 Wildfires in Sardinia\n",
    "\n",
    "I was visiting the island Sardinia for a climbing trip in the summer of 2021, shortly after one of the most severe wildfire seasons the island had ever seen. In a period of a few weeks over `200 million m2` were burned as the wildfires could quickly spread due to strong winds and an extremely hot summer [[Wildfires Ravage Sardinia in ‘a Disaster Without Precedent’](https://www.nytimes.com/2021/07/26/world/europe/wildfires-italy-sardinia.html)]."
   ]
  },
  {
   "cell_type": "code",
   "execution_count": 6,
   "id": "13f94b82",
   "metadata": {},
   "outputs": [
    {
     "data": {
      "text/html": [
       "\n",
       "        <iframe\n",
       "            width=\"480\"\n",
       "            height=\"321\"\n",
       "            src=\"https://www.nytimes.com/video/players/offsite/index.html?videoId=100000007886286\"\n",
       "            frameborder=\"0\"\n",
       "            allowfullscreen\n",
       "            \n",
       "        ></iframe>\n",
       "        "
      ],
      "text/plain": [
       "<IPython.lib.display.IFrame at 0x108c98eb0>"
      ]
     },
     "execution_count": 6,
     "metadata": {},
     "output_type": "execute_result"
    }
   ],
   "source": [
    "from IPython.display import IFrame\n",
    "IFrame(\"https://www.nytimes.com/video/players/offsite/index.html?videoId=100000007886286\", width=480, height=321)"
   ]
  },
  {
   "cell_type": "markdown",
   "id": "5779959c",
   "metadata": {},
   "source": [
    "Sardinia is the second largest island in the mediterranian sea and since the 18th century part of Italy. However, its region developed independtly of the Italian peninsula, yielding a distinct culture and language, which was also influenced by their Catalan neighbors in todays Spain. The island inherits the typical mediterranian climate: Mild winters, hot summers with most of the precipitation occurring during the winter months. Its geographical location is `40°2' N, 9°4' E'` and it covers an area of around `270 km` by `190 km`.\n",
    "\n",
    "The flora of Sardinia is dominated by the [Maquis shrubland](https://en.wikipedia.org/wiki/Maquis_shrubland), featuring evergreen shrubs and is complemented by mediterranean forest and cactaceae. Some of its most prominent agricultural crops are olive and cork trees. As with many regions in southern Europe, our rapidly changing climate is increasing the frequency of record summer temperature highs and shifting the climate of these semi-arid regions towards higher risk of desertification [[Combating desertification in the EU: a growing threat in need of more action](https://www.eca.europa.eu/Lists/ECADocuments/SR18_33/SR_DESERTIFICATION_EN.pdf)]. In general, the shrubland itself is quite adapted to wildfires, enabling it to recover within a few years after a fire. However, if fires are too frequent a full recovery is less likely and can disturb the ecosystem for longer periods of time [[Fire in Mediterranean Macchia: a Case of Study in Southwest Sardinia](https://www.fs.fed.us/psw/publications/documents/psw_gtr208en/psw_gtr208en_545-548_camarda.pdf)].\n",
    "\n",
    "Many of my friends still are in Sardinia, as some of them have been staying for over 2 years during the Corona lockdowns and are actively supporting conservation efforts and the local climbing community. Some of them even consider to acquire a property on the island and I wonder how the climate and inevitable wildfires will affect the island in the years to come.\n",
    "\n",
    "Thus, my question for this project is:\n",
    "`Can we infer how wildfires have evolved on the island over the past decade?`"
   ]
  },
  {
   "cell_type": "markdown",
   "id": "57d3810d",
   "metadata": {},
   "source": [
    "## 1.2 Hypotheses"
   ]
  },
  {
   "cell_type": "markdown",
   "id": "3a84040f",
   "metadata": {},
   "source": [
    "Along the investigation into this very region we will try to test the following two hypotheses. These were chosen, because they seem to me like common assumptions I would make from the top of my head. Thus, I would be very surprising to see them fail. \n",
    "\n",
    "- `H1: Fires are occurring in increasing frequency and size.`\n",
    "\n",
    "- `H2: More heat, less rain and strong winds imply more severe fires.`"
   ]
  }
 ],
 "metadata": {
  "kernelspec": {
   "display_name": "Python 3 (ipykernel)",
   "language": "python",
   "name": "python3"
  },
  "language_info": {
   "codemirror_mode": {
    "name": "ipython",
    "version": 3
   },
   "file_extension": ".py",
   "mimetype": "text/x-python",
   "name": "python",
   "nbconvert_exporter": "python",
   "pygments_lexer": "ipython3",
   "version": "3.9.9"
  }
 },
 "nbformat": 4,
 "nbformat_minor": 5
}
